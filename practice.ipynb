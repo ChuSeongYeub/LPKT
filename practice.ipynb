{
 "cells": [
  {
   "cell_type": "code",
   "execution_count": 1,
   "metadata": {},
   "outputs": [],
   "source": [
    "import torch\n",
    "import numpy as np\n",
    "import tqdm\n",
    "from assist_chall import assistchall_process\n",
    "import pandas as pd\n",
    "from Freyja_LPKT import LPKTNet_copy\n",
    "from Freyja_LPKT import LPKT_dataloader\n",
    "from sklearn.model_selection import KFold\n",
    "from torch.utils.data import DataLoader\n",
    "import torch.nn as nn\n",
    "import torch.optim as optim\n",
    "import sklearn.metrics as metrics\n",
    "from assist_2012 import assist2012_process\n",
    "from ednet import ednet_process"
   ]
  },
  {
   "cell_type": "code",
   "execution_count": 3,
   "metadata": {},
   "outputs": [
    {
     "name": "stdout",
     "output_type": "stream",
     "text": [
      "Student Number: 1709\n",
      "Exercise Number: 3162\n",
      "Skill Number: 102\n"
     ]
    },
    {
     "name": "stderr",
     "output_type": "stream",
     "text": [
      "100%|██████████| 1709/1709 [01:46<00:00, 16.02it/s]\n",
      "100%|██████████| 1709/1709 [00:01<00:00, 1594.18it/s]\n",
      "100%|██████████| 1709/1709 [00:00<00:00, 3830.54it/s]\n",
      "100%|██████████| 1709/1709 [00:00<00:00, 89559.40it/s]\n"
     ]
    }
   ],
   "source": [
    "path = 'assist_chall/assist_chall_4LPKT.csv'\n",
    "data_inf, data_sum = assistchall_process.data_split(pd.read_csv(path, encoding=\"utf-8\", low_memory=True))"
   ]
  },
  {
   "cell_type": "code",
   "execution_count": 14,
   "metadata": {},
   "outputs": [
    {
     "data": {
      "text/html": [
       "<div>\n",
       "<style scoped>\n",
       "    .dataframe tbody tr th:only-of-type {\n",
       "        vertical-align: middle;\n",
       "    }\n",
       "\n",
       "    .dataframe tbody tr th {\n",
       "        vertical-align: top;\n",
       "    }\n",
       "\n",
       "    .dataframe thead th {\n",
       "        text-align: right;\n",
       "    }\n",
       "</style>\n",
       "<table border=\"1\" class=\"dataframe\">\n",
       "  <thead>\n",
       "    <tr style=\"text-align: right;\">\n",
       "      <th></th>\n",
       "      <th>studentId</th>\n",
       "      <th>problemId</th>\n",
       "      <th>skill</th>\n",
       "      <th>startTime</th>\n",
       "      <th>endTime</th>\n",
       "      <th>timeTaken</th>\n",
       "      <th>correct</th>\n",
       "    </tr>\n",
       "  </thead>\n",
       "  <tbody>\n",
       "    <tr>\n",
       "      <th>0</th>\n",
       "      <td>1</td>\n",
       "      <td>1118</td>\n",
       "      <td>0</td>\n",
       "      <td>1096470301</td>\n",
       "      <td>1096470350</td>\n",
       "      <td>49.0</td>\n",
       "      <td>0</td>\n",
       "    </tr>\n",
       "    <tr>\n",
       "      <th>1</th>\n",
       "      <td>1</td>\n",
       "      <td>1119</td>\n",
       "      <td>0</td>\n",
       "      <td>1096470350</td>\n",
       "      <td>1096470354</td>\n",
       "      <td>4.0</td>\n",
       "      <td>1</td>\n",
       "    </tr>\n",
       "    <tr>\n",
       "      <th>2</th>\n",
       "      <td>1</td>\n",
       "      <td>1120</td>\n",
       "      <td>1</td>\n",
       "      <td>1096470354</td>\n",
       "      <td>1096470360</td>\n",
       "      <td>6.0</td>\n",
       "      <td>0</td>\n",
       "    </tr>\n",
       "    <tr>\n",
       "      <th>3</th>\n",
       "      <td>1</td>\n",
       "      <td>1120</td>\n",
       "      <td>1</td>\n",
       "      <td>1096470360</td>\n",
       "      <td>1096470378</td>\n",
       "      <td>18.0</td>\n",
       "      <td>0</td>\n",
       "    </tr>\n",
       "    <tr>\n",
       "      <th>4</th>\n",
       "      <td>1</td>\n",
       "      <td>1121</td>\n",
       "      <td>1</td>\n",
       "      <td>1096470378</td>\n",
       "      <td>1096470380</td>\n",
       "      <td>2.0</td>\n",
       "      <td>1</td>\n",
       "    </tr>\n",
       "    <tr>\n",
       "      <th>...</th>\n",
       "      <td>...</td>\n",
       "      <td>...</td>\n",
       "      <td>...</td>\n",
       "      <td>...</td>\n",
       "      <td>...</td>\n",
       "      <td>...</td>\n",
       "      <td>...</td>\n",
       "    </tr>\n",
       "    <tr>\n",
       "      <th>942776</th>\n",
       "      <td>1709</td>\n",
       "      <td>1712</td>\n",
       "      <td>61</td>\n",
       "      <td>1147447464</td>\n",
       "      <td>1147447468</td>\n",
       "      <td>4.0</td>\n",
       "      <td>1</td>\n",
       "    </tr>\n",
       "    <tr>\n",
       "      <th>942777</th>\n",
       "      <td>1709</td>\n",
       "      <td>1713</td>\n",
       "      <td>61</td>\n",
       "      <td>1147447468</td>\n",
       "      <td>1147447539</td>\n",
       "      <td>71.0</td>\n",
       "      <td>0</td>\n",
       "    </tr>\n",
       "    <tr>\n",
       "      <th>942778</th>\n",
       "      <td>1709</td>\n",
       "      <td>1713</td>\n",
       "      <td>61</td>\n",
       "      <td>1147447539</td>\n",
       "      <td>1147447543</td>\n",
       "      <td>4.0</td>\n",
       "      <td>0</td>\n",
       "    </tr>\n",
       "    <tr>\n",
       "      <th>942779</th>\n",
       "      <td>1709</td>\n",
       "      <td>1713</td>\n",
       "      <td>61</td>\n",
       "      <td>1147447543</td>\n",
       "      <td>1147447546</td>\n",
       "      <td>3.0</td>\n",
       "      <td>1</td>\n",
       "    </tr>\n",
       "    <tr>\n",
       "      <th>942780</th>\n",
       "      <td>1709</td>\n",
       "      <td>836</td>\n",
       "      <td>10</td>\n",
       "      <td>1147447546</td>\n",
       "      <td>1147447583</td>\n",
       "      <td>37.0</td>\n",
       "      <td>1</td>\n",
       "    </tr>\n",
       "  </tbody>\n",
       "</table>\n",
       "<p>942781 rows × 7 columns</p>\n",
       "</div>"
      ],
      "text/plain": [
       "        studentId  problemId  skill   startTime     endTime  timeTaken  \\\n",
       "0               1       1118      0  1096470301  1096470350       49.0   \n",
       "1               1       1119      0  1096470350  1096470354        4.0   \n",
       "2               1       1120      1  1096470354  1096470360        6.0   \n",
       "3               1       1120      1  1096470360  1096470378       18.0   \n",
       "4               1       1121      1  1096470378  1096470380        2.0   \n",
       "...           ...        ...    ...         ...         ...        ...   \n",
       "942776       1709       1712     61  1147447464  1147447468        4.0   \n",
       "942777       1709       1713     61  1147447468  1147447539       71.0   \n",
       "942778       1709       1713     61  1147447539  1147447543        4.0   \n",
       "942779       1709       1713     61  1147447543  1147447546        3.0   \n",
       "942780       1709        836     10  1147447546  1147447583       37.0   \n",
       "\n",
       "        correct  \n",
       "0             0  \n",
       "1             1  \n",
       "2             0  \n",
       "3             0  \n",
       "4             1  \n",
       "...         ...  \n",
       "942776        1  \n",
       "942777        0  \n",
       "942778        0  \n",
       "942779        1  \n",
       "942780        1  \n",
       "\n",
       "[942781 rows x 7 columns]"
      ]
     },
     "execution_count": 14,
     "metadata": {},
     "output_type": "execute_result"
    }
   ],
   "source": [
    "raw_data = pd.read_csv(path, encoding=\"utf-8\", low_memory=True)\n",
    "raw_data"
   ]
  },
  {
   "cell_type": "code",
   "execution_count": 15,
   "metadata": {},
   "outputs": [],
   "source": [
    "raw_data = raw_data.sort_values(by=['startTime'])\n",
    "raw_data = np.array(raw_data)\n",
    "raw_stu_id = raw_data[:, 0]\n",
    "raw_exercise_id = raw_data[:, 1]\n",
    "raw_skill = raw_data[:, 2]\n",
    "\n",
    "stu_id = np.unique(raw_stu_id)\n",
    "exercise_id = np.unique(raw_exercise_id)\n",
    "skill_id = np.unique(raw_skill)\n"
   ]
  },
  {
   "cell_type": "code",
   "execution_count": 38,
   "metadata": {},
   "outputs": [
    {
     "name": "stdout",
     "output_type": "stream",
     "text": [
      "Student Number: 1709\n",
      "Exercise Number: 3162\n",
      "Skill Number: 102\n"
     ]
    },
    {
     "data": {
      "text/plain": [
       "1.0"
      ]
     },
     "execution_count": 38,
     "metadata": {},
     "output_type": "execute_result"
    }
   ],
   "source": [
    "stu_num = len(stu_id)\n",
    "exercise_num = len(exercise_id)\n",
    "skill_num = len(skill_id)\n",
    "print(\"Student Number:\", stu_num)\n",
    "print(\"Exercise Number:\", exercise_num)\n",
    "print(\"Skill Number:\", skill_num)\n",
    "min(exercise_id)\n"
   ]
  },
  {
   "cell_type": "code",
   "execution_count": 32,
   "metadata": {},
   "outputs": [],
   "source": [
    "q_matrix = np.zeros([exercise_num+1, skill_num])\n",
    "for i in range(len(raw_data)):\n",
    "    q_matrix[int(raw_exercise_id[i]), int(raw_skill[i])] = 1\n",
    "q_matrix = torch.from_numpy(q_matrix)\n"
   ]
  },
  {
   "cell_type": "code",
   "execution_count": 37,
   "metadata": {},
   "outputs": [
    {
     "data": {
      "text/plain": [
       "torch.Size([3163, 102])"
      ]
     },
     "execution_count": 37,
     "metadata": {},
     "output_type": "execute_result"
    }
   ],
   "source": [
    "q_matrix.shape"
   ]
  }
 ],
 "metadata": {
  "kernelspec": {
   "display_name": "knowledge_tracing",
   "language": "python",
   "name": "python3"
  },
  "language_info": {
   "codemirror_mode": {
    "name": "ipython",
    "version": 3
   },
   "file_extension": ".py",
   "mimetype": "text/x-python",
   "name": "python",
   "nbconvert_exporter": "python",
   "pygments_lexer": "ipython3",
   "version": "3.10.10"
  },
  "orig_nbformat": 4
 },
 "nbformat": 4,
 "nbformat_minor": 2
}
